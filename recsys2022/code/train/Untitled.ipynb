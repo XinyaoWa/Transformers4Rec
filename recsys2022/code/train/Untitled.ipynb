{
 "cells": [
  {
   "cell_type": "code",
   "execution_count": 8,
   "id": "79caedff-4574-42de-87bd-44f321c552da",
   "metadata": {},
   "outputs": [],
   "source": [
    "import pandas as pd\n",
    "import os"
   ]
  },
  {
   "cell_type": "code",
   "execution_count": 2,
   "id": "fd398c45-022e-45b8-b940-7d002299dee8",
   "metadata": {},
   "outputs": [],
   "source": [
    "ori = pd.read_csv(\"prediction.csv\")"
   ]
  },
  {
   "cell_type": "code",
   "execution_count": 3,
   "id": "91df4654-d8da-40d6-b82b-1510e059ebb3",
   "metadata": {},
   "outputs": [
    {
     "data": {
      "text/html": [
       "<div>\n",
       "<style scoped>\n",
       "    .dataframe tbody tr th:only-of-type {\n",
       "        vertical-align: middle;\n",
       "    }\n",
       "\n",
       "    .dataframe tbody tr th {\n",
       "        vertical-align: top;\n",
       "    }\n",
       "\n",
       "    .dataframe thead th {\n",
       "        text-align: right;\n",
       "    }\n",
       "</style>\n",
       "<table border=\"1\" class=\"dataframe\">\n",
       "  <thead>\n",
       "    <tr style=\"text-align: right;\">\n",
       "      <th></th>\n",
       "      <th>session_id</th>\n",
       "      <th>item_id</th>\n",
       "      <th>rank</th>\n",
       "    </tr>\n",
       "  </thead>\n",
       "  <tbody>\n",
       "    <tr>\n",
       "      <th>0</th>\n",
       "      <td>113</td>\n",
       "      <td>21107</td>\n",
       "      <td>1</td>\n",
       "    </tr>\n",
       "    <tr>\n",
       "      <th>1</th>\n",
       "      <td>113</td>\n",
       "      <td>5433</td>\n",
       "      <td>2</td>\n",
       "    </tr>\n",
       "    <tr>\n",
       "      <th>2</th>\n",
       "      <td>113</td>\n",
       "      <td>2967</td>\n",
       "      <td>3</td>\n",
       "    </tr>\n",
       "    <tr>\n",
       "      <th>3</th>\n",
       "      <td>113</td>\n",
       "      <td>14813</td>\n",
       "      <td>4</td>\n",
       "    </tr>\n",
       "    <tr>\n",
       "      <th>4</th>\n",
       "      <td>113</td>\n",
       "      <td>18876</td>\n",
       "      <td>5</td>\n",
       "    </tr>\n",
       "    <tr>\n",
       "      <th>...</th>\n",
       "      <td>...</td>\n",
       "      <td>...</td>\n",
       "      <td>...</td>\n",
       "    </tr>\n",
       "    <tr>\n",
       "      <th>8161995</th>\n",
       "      <td>4439986</td>\n",
       "      <td>9184</td>\n",
       "      <td>96</td>\n",
       "    </tr>\n",
       "    <tr>\n",
       "      <th>8161996</th>\n",
       "      <td>4439986</td>\n",
       "      <td>7819</td>\n",
       "      <td>97</td>\n",
       "    </tr>\n",
       "    <tr>\n",
       "      <th>8161997</th>\n",
       "      <td>4439986</td>\n",
       "      <td>9632</td>\n",
       "      <td>98</td>\n",
       "    </tr>\n",
       "    <tr>\n",
       "      <th>8161998</th>\n",
       "      <td>4439986</td>\n",
       "      <td>14725</td>\n",
       "      <td>99</td>\n",
       "    </tr>\n",
       "    <tr>\n",
       "      <th>8161999</th>\n",
       "      <td>4439986</td>\n",
       "      <td>7444</td>\n",
       "      <td>100</td>\n",
       "    </tr>\n",
       "  </tbody>\n",
       "</table>\n",
       "<p>8162000 rows × 3 columns</p>\n",
       "</div>"
      ],
      "text/plain": [
       "         session_id  item_id  rank\n",
       "0               113    21107     1\n",
       "1               113     5433     2\n",
       "2               113     2967     3\n",
       "3               113    14813     4\n",
       "4               113    18876     5\n",
       "...             ...      ...   ...\n",
       "8161995     4439986     9184    96\n",
       "8161996     4439986     7819    97\n",
       "8161997     4439986     9632    98\n",
       "8161998     4439986    14725    99\n",
       "8161999     4439986     7444   100\n",
       "\n",
       "[8162000 rows x 3 columns]"
      ]
     },
     "execution_count": 3,
     "metadata": {},
     "output_type": "execute_result"
    }
   ],
   "source": [
    "ori"
   ]
  },
  {
   "cell_type": "code",
   "execution_count": 4,
   "id": "63658c9a-2ec2-41a4-89d2-276f0cbfb73a",
   "metadata": {},
   "outputs": [],
   "source": [
    "ori = ori[[\"session_id\", \"item_id\"]].groupby(\"session_id\", as_index = False).agg({'item_id':lambda x: list(x)})"
   ]
  },
  {
   "cell_type": "code",
   "execution_count": 15,
   "id": "3b9963a7-32ce-4023-849f-1c1052bf7b6d",
   "metadata": {},
   "outputs": [
    {
     "data": {
      "text/html": [
       "<div>\n",
       "<style scoped>\n",
       "    .dataframe tbody tr th:only-of-type {\n",
       "        vertical-align: middle;\n",
       "    }\n",
       "\n",
       "    .dataframe tbody tr th {\n",
       "        vertical-align: top;\n",
       "    }\n",
       "\n",
       "    .dataframe thead th {\n",
       "        text-align: right;\n",
       "    }\n",
       "</style>\n",
       "<table border=\"1\" class=\"dataframe\">\n",
       "  <thead>\n",
       "    <tr style=\"text-align: right;\">\n",
       "      <th></th>\n",
       "      <th>session_id</th>\n",
       "      <th>item_id</th>\n",
       "    </tr>\n",
       "  </thead>\n",
       "  <tbody>\n",
       "    <tr>\n",
       "      <th>0</th>\n",
       "      <td>113</td>\n",
       "      <td>[21107, 5433, 2967, 14813, 18876, 11923, 22228...</td>\n",
       "    </tr>\n",
       "    <tr>\n",
       "      <th>1</th>\n",
       "      <td>115</td>\n",
       "      <td>[8781, 27183, 28132, 19707, 12508, 27916, 1472...</td>\n",
       "    </tr>\n",
       "    <tr>\n",
       "      <th>2</th>\n",
       "      <td>261</td>\n",
       "      <td>[17341, 16130, 4977, 2099, 22909, 26642, 16572...</td>\n",
       "    </tr>\n",
       "    <tr>\n",
       "      <th>3</th>\n",
       "      <td>325</td>\n",
       "      <td>[14865, 18511, 2325, 17075, 19955, 23740, 2267...</td>\n",
       "    </tr>\n",
       "    <tr>\n",
       "      <th>4</th>\n",
       "      <td>332</td>\n",
       "      <td>[25320, 15777, 23140, 26402, 21100, 8033, 2157...</td>\n",
       "    </tr>\n",
       "    <tr>\n",
       "      <th>...</th>\n",
       "      <td>...</td>\n",
       "      <td>...</td>\n",
       "    </tr>\n",
       "    <tr>\n",
       "      <th>91</th>\n",
       "      <td>4565</td>\n",
       "      <td>[18981, 24774, 17740, 11327, 6187, 25127, 2314...</td>\n",
       "    </tr>\n",
       "    <tr>\n",
       "      <th>92</th>\n",
       "      <td>4583</td>\n",
       "      <td>[4130, 5933, 20629, 19882, 2915, 22747, 20409,...</td>\n",
       "    </tr>\n",
       "    <tr>\n",
       "      <th>93</th>\n",
       "      <td>4607</td>\n",
       "      <td>[13140, 11140, 23962, 18319, 12031, 4877, 2382...</td>\n",
       "    </tr>\n",
       "    <tr>\n",
       "      <th>94</th>\n",
       "      <td>4611</td>\n",
       "      <td>[4193, 23789, 18868, 27852, 14782, 15249, 1696...</td>\n",
       "    </tr>\n",
       "    <tr>\n",
       "      <th>95</th>\n",
       "      <td>4684</td>\n",
       "      <td>[11411, 3927, 21594, 16572, 20028, 18031, 1221...</td>\n",
       "    </tr>\n",
       "  </tbody>\n",
       "</table>\n",
       "<p>96 rows × 2 columns</p>\n",
       "</div>"
      ],
      "text/plain": [
       "    session_id                                            item_id\n",
       "0          113  [21107, 5433, 2967, 14813, 18876, 11923, 22228...\n",
       "1          115  [8781, 27183, 28132, 19707, 12508, 27916, 1472...\n",
       "2          261  [17341, 16130, 4977, 2099, 22909, 26642, 16572...\n",
       "3          325  [14865, 18511, 2325, 17075, 19955, 23740, 2267...\n",
       "4          332  [25320, 15777, 23140, 26402, 21100, 8033, 2157...\n",
       "..         ...                                                ...\n",
       "91        4565  [18981, 24774, 17740, 11327, 6187, 25127, 2314...\n",
       "92        4583  [4130, 5933, 20629, 19882, 2915, 22747, 20409,...\n",
       "93        4607  [13140, 11140, 23962, 18319, 12031, 4877, 2382...\n",
       "94        4611  [4193, 23789, 18868, 27852, 14782, 15249, 1696...\n",
       "95        4684  [11411, 3927, 21594, 16572, 20028, 18031, 1221...\n",
       "\n",
       "[96 rows x 2 columns]"
      ]
     },
     "execution_count": 15,
     "metadata": {},
     "output_type": "execute_result"
    }
   ],
   "source": [
    "ori[:96]"
   ]
  },
  {
   "cell_type": "code",
   "execution_count": 11,
   "id": "5f7431b2-a4da-4778-9a13-596d1c392226",
   "metadata": {},
   "outputs": [],
   "source": [
    "INPUT_DATA_DIR = \"/home/vmagent/app/transformer4rec_recsys2022/data/origin/\"\n",
    "eval_paths =os.path.join(INPUT_DATA_DIR, \"valid_purchases_new.csv\")\n",
    "valid = pd.read_csv(eval_paths)"
   ]
  },
  {
   "cell_type": "code",
   "execution_count": 14,
   "id": "4e43243e-5c70-4f3d-bf54-45c43f361f3f",
   "metadata": {},
   "outputs": [
    {
     "data": {
      "text/html": [
       "<div>\n",
       "<style scoped>\n",
       "    .dataframe tbody tr th:only-of-type {\n",
       "        vertical-align: middle;\n",
       "    }\n",
       "\n",
       "    .dataframe tbody tr th {\n",
       "        vertical-align: top;\n",
       "    }\n",
       "\n",
       "    .dataframe thead th {\n",
       "        text-align: right;\n",
       "    }\n",
       "</style>\n",
       "<table border=\"1\" class=\"dataframe\">\n",
       "  <thead>\n",
       "    <tr style=\"text-align: right;\">\n",
       "      <th></th>\n",
       "      <th>session_id</th>\n",
       "      <th>item_id</th>\n",
       "      <th>date</th>\n",
       "    </tr>\n",
       "  </thead>\n",
       "  <tbody>\n",
       "    <tr>\n",
       "      <th>0</th>\n",
       "      <td>113</td>\n",
       "      <td>21107</td>\n",
       "      <td>2021-05-05 14:15:07.278</td>\n",
       "    </tr>\n",
       "    <tr>\n",
       "      <th>1</th>\n",
       "      <td>115</td>\n",
       "      <td>25976</td>\n",
       "      <td>2021-05-27 10:24:05.043</td>\n",
       "    </tr>\n",
       "    <tr>\n",
       "      <th>2</th>\n",
       "      <td>261</td>\n",
       "      <td>8840</td>\n",
       "      <td>2021-05-31 13:44:52.368</td>\n",
       "    </tr>\n",
       "    <tr>\n",
       "      <th>3</th>\n",
       "      <td>325</td>\n",
       "      <td>4309</td>\n",
       "      <td>2021-05-05 10:11:06.926</td>\n",
       "    </tr>\n",
       "    <tr>\n",
       "      <th>4</th>\n",
       "      <td>332</td>\n",
       "      <td>25415</td>\n",
       "      <td>2021-05-25 16:24:30.224</td>\n",
       "    </tr>\n",
       "    <tr>\n",
       "      <th>...</th>\n",
       "      <td>...</td>\n",
       "      <td>...</td>\n",
       "      <td>...</td>\n",
       "    </tr>\n",
       "    <tr>\n",
       "      <th>91</th>\n",
       "      <td>4565</td>\n",
       "      <td>22352</td>\n",
       "      <td>2021-05-17 12:09:10.417</td>\n",
       "    </tr>\n",
       "    <tr>\n",
       "      <th>92</th>\n",
       "      <td>4583</td>\n",
       "      <td>27081</td>\n",
       "      <td>2021-05-21 21:03:33.510</td>\n",
       "    </tr>\n",
       "    <tr>\n",
       "      <th>93</th>\n",
       "      <td>4607</td>\n",
       "      <td>16462</td>\n",
       "      <td>2021-05-12 21:22:34.248</td>\n",
       "    </tr>\n",
       "    <tr>\n",
       "      <th>94</th>\n",
       "      <td>4611</td>\n",
       "      <td>4193</td>\n",
       "      <td>2021-05-08 00:42:31.321</td>\n",
       "    </tr>\n",
       "    <tr>\n",
       "      <th>95</th>\n",
       "      <td>4684</td>\n",
       "      <td>23480</td>\n",
       "      <td>2021-05-30 09:01:15.952</td>\n",
       "    </tr>\n",
       "  </tbody>\n",
       "</table>\n",
       "<p>96 rows × 3 columns</p>\n",
       "</div>"
      ],
      "text/plain": [
       "    session_id  item_id                     date\n",
       "0          113    21107  2021-05-05 14:15:07.278\n",
       "1          115    25976  2021-05-27 10:24:05.043\n",
       "2          261     8840  2021-05-31 13:44:52.368\n",
       "3          325     4309  2021-05-05 10:11:06.926\n",
       "4          332    25415  2021-05-25 16:24:30.224\n",
       "..         ...      ...                      ...\n",
       "91        4565    22352  2021-05-17 12:09:10.417\n",
       "92        4583    27081  2021-05-21 21:03:33.510\n",
       "93        4607    16462  2021-05-12 21:22:34.248\n",
       "94        4611     4193  2021-05-08 00:42:31.321\n",
       "95        4684    23480  2021-05-30 09:01:15.952\n",
       "\n",
       "[96 rows x 3 columns]"
      ]
     },
     "execution_count": 14,
     "metadata": {},
     "output_type": "execute_result"
    }
   ],
   "source": [
    "valid[:96]"
   ]
  },
  {
   "cell_type": "code",
   "execution_count": null,
   "id": "f0729435-0650-4a37-bdf1-f1f676caacfb",
   "metadata": {},
   "outputs": [],
   "source": []
  },
  {
   "cell_type": "code",
   "execution_count": null,
   "id": "b6ac4ade-2d2c-486a-81d6-5d0daeaec87a",
   "metadata": {},
   "outputs": [],
   "source": []
  },
  {
   "cell_type": "code",
   "execution_count": null,
   "id": "d818b917-0605-4610-911c-e069e8517207",
   "metadata": {},
   "outputs": [],
   "source": []
  },
  {
   "cell_type": "code",
   "execution_count": 25,
   "id": "a8de50f4-1245-478a-bb1e-4c9b721e1847",
   "metadata": {},
   "outputs": [],
   "source": [
    "import glob\n",
    "INPUT_DATA_DIR = \"/home/vmagent/app/transformer4rec_recsys2022/data/data_feat/\"\n",
    "train_paths = glob.glob(os.path.join(INPUT_DATA_DIR, f\"train.parquet\"))\n",
    "eval_paths = glob.glob(os.path.join(INPUT_DATA_DIR, f\"valid.parquet\"))"
   ]
  },
  {
   "cell_type": "code",
   "execution_count": 18,
   "id": "b4239aad-7a50-4aac-8d6d-a45c8c056063",
   "metadata": {},
   "outputs": [
    {
     "data": {
      "text/plain": [
       "['/home/vmagent/app/transformer4rec_recsys2022/data/data_feat/valid.parquet']"
      ]
     },
     "execution_count": 18,
     "metadata": {},
     "output_type": "execute_result"
    }
   ],
   "source": [
    "eval_paths"
   ]
  },
  {
   "cell_type": "code",
   "execution_count": 19,
   "id": "da8f17fd-2455-457b-981b-d51c0938941b",
   "metadata": {},
   "outputs": [
    {
     "ename": "NameError",
     "evalue": "name 'valid_paths' is not defined",
     "output_type": "error",
     "traceback": [
      "\u001b[0;31m---------------------------------------------------------------------------\u001b[0m",
      "\u001b[0;31mNameError\u001b[0m                                 Traceback (most recent call last)",
      "Cell \u001b[0;32mIn[19], line 2\u001b[0m\n\u001b[1;32m      1\u001b[0m train \u001b[38;5;241m=\u001b[39m pd\u001b[38;5;241m.\u001b[39mread_parquet(train_paths)\n\u001b[0;32m----> 2\u001b[0m valid \u001b[38;5;241m=\u001b[39m pd\u001b[38;5;241m.\u001b[39mread_parquet(\u001b[43mvalid_paths\u001b[49m)\n",
      "\u001b[0;31mNameError\u001b[0m: name 'valid_paths' is not defined"
     ]
    }
   ],
   "source": [
    "train = pd.read_parquet(train_paths)\n"
   ]
  },
  {
   "cell_type": "code",
   "execution_count": 26,
   "id": "5ccb3530-8eb2-4661-a8d1-79060bf7f761",
   "metadata": {},
   "outputs": [],
   "source": [
    "valid = pd.read_parquet(eval_paths)"
   ]
  },
  {
   "cell_type": "code",
   "execution_count": 29,
   "id": "30db00af-dc3c-49c4-8353-4c118562f5c2",
   "metadata": {},
   "outputs": [
    {
     "data": {
      "text/plain": [
       "array([array([ 6187, 19760,  2171, 15738, 21215, 17218, 21107]),\n",
       "       array([19705, 10442, 15969, 19705, 10442, 16631, 19705, 16631, 25976]),\n",
       "       array([17428,  3946, 17428, 19143, 26673, 25002,  8840]), ...,\n",
       "       array([12508,  3237, 18969, 17588,  8414,  3237,  8414,  3237, 17036,\n",
       "              20891, 23993])                                                ,\n",
       "       array([16806, 16439]),\n",
       "       array([23502, 13914, 13403, 19310, 12373, 27733,  2915])],\n",
       "      dtype=object)"
      ]
     },
     "execution_count": 29,
     "metadata": {},
     "output_type": "execute_result"
    }
   ],
   "source": [
    "valid[\"item_id-list\"].values"
   ]
  },
  {
   "cell_type": "code",
   "execution_count": 22,
   "id": "6b69b8eb-114d-4f61-bb79-19141eef8106",
   "metadata": {},
   "outputs": [
    {
     "data": {
      "text/plain": [
       "array([      3,      13,      18, ..., 4439994, 4439999, 4440001])"
      ]
     },
     "execution_count": 22,
     "metadata": {},
     "output_type": "execute_result"
    }
   ],
   "source": [
    "train_id = train[\"session_id\"].values\n",
    "train_id"
   ]
  },
  {
   "cell_type": "code",
   "execution_count": 23,
   "id": "e4f01b9e-6c95-49fa-a370-e53e520cd9fb",
   "metadata": {},
   "outputs": [
    {
     "data": {
      "text/plain": [
       "array([    113,     115,     261, ..., 4439898, 4439949, 4439986])"
      ]
     },
     "execution_count": 23,
     "metadata": {},
     "output_type": "execute_result"
    }
   ],
   "source": [
    "valid_id = valid[\"session_id\"].values\n",
    "valid_id"
   ]
  },
  {
   "cell_type": "code",
   "execution_count": 24,
   "id": "d22908a2-1333-442f-ac8b-67e0e9c3f70a",
   "metadata": {},
   "outputs": [
    {
     "data": {
      "text/plain": [
       "set()"
      ]
     },
     "execution_count": 24,
     "metadata": {},
     "output_type": "execute_result"
    }
   ],
   "source": [
    "set(train_id) & set(valid_id)"
   ]
  }
 ],
 "metadata": {
  "kernelspec": {
   "display_name": "Python 3 (ipykernel)",
   "language": "python",
   "name": "python3"
  },
  "language_info": {
   "codemirror_mode": {
    "name": "ipython",
    "version": 3
   },
   "file_extension": ".py",
   "mimetype": "text/x-python",
   "name": "python",
   "nbconvert_exporter": "python",
   "pygments_lexer": "ipython3",
   "version": "3.9.15"
  }
 },
 "nbformat": 4,
 "nbformat_minor": 5
}
